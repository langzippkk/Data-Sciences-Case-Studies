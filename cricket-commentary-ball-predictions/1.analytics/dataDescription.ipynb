{
 "cells": [
  {
   "cell_type": "code",
   "execution_count": 39,
   "metadata": {},
   "outputs": [],
   "source": [
    "import pandas as pd\n",
    "import seaborn as sns"
   ]
  },
  {
   "cell_type": "code",
   "execution_count": 67,
   "metadata": {},
   "outputs": [
    {
     "data": {
      "text/html": [
       "<div>\n",
       "<style scoped>\n",
       "    .dataframe tbody tr th:only-of-type {\n",
       "        vertical-align: middle;\n",
       "    }\n",
       "\n",
       "    .dataframe tbody tr th {\n",
       "        vertical-align: top;\n",
       "    }\n",
       "\n",
       "    .dataframe thead th {\n",
       "        text-align: right;\n",
       "    }\n",
       "</style>\n",
       "<table border=\"1\" class=\"dataframe\">\n",
       "  <thead>\n",
       "    <tr style=\"text-align: right;\">\n",
       "      <th></th>\n",
       "      <th>ID</th>\n",
       "      <th>Match_ID</th>\n",
       "      <th>Over</th>\n",
       "      <th>Commentary</th>\n",
       "      <th>Over_Run_Total</th>\n",
       "      <th>Target</th>\n",
       "    </tr>\n",
       "  </thead>\n",
       "  <tbody>\n",
       "    <tr>\n",
       "      <th>0</th>\n",
       "      <td>0</td>\n",
       "      <td>8.040000e+11</td>\n",
       "      <td>49.6</td>\n",
       "      <td>and india reach 300. there has been a 300 in ...</td>\n",
       "      <td>4</td>\n",
       "      <td>Run_Bw_Wickets</td>\n",
       "    </tr>\n",
       "    <tr>\n",
       "      <th>1</th>\n",
       "      <td>1</td>\n",
       "      <td>8.040000e+11</td>\n",
       "      <td>49.5</td>\n",
       "      <td>slower ball, ashwin bunts this to leg for -99...</td>\n",
       "      <td>4</td>\n",
       "      <td>Run_Bw_Wickets</td>\n",
       "    </tr>\n",
       "    <tr>\n",
       "      <th>2</th>\n",
       "      <td>2</td>\n",
       "      <td>8.040000e+11</td>\n",
       "      <td>49.4</td>\n",
       "      <td>full toss on off, he just slogs, gets a thick...</td>\n",
       "      <td>4</td>\n",
       "      <td>Run_Bw_Wickets</td>\n",
       "    </tr>\n",
       "    <tr>\n",
       "      <th>3</th>\n",
       "      <td>3</td>\n",
       "      <td>8.040000e+11</td>\n",
       "      <td>49.3</td>\n",
       "      <td>that's the closest you'll get to a hat-trick ...</td>\n",
       "      <td>4</td>\n",
       "      <td>Dot</td>\n",
       "    </tr>\n",
       "    <tr>\n",
       "      <th>4</th>\n",
       "      <td>4</td>\n",
       "      <td>8.040000e+11</td>\n",
       "      <td>49.2</td>\n",
       "      <td>sohail is doing the sajda after bowling rahan...</td>\n",
       "      <td>4</td>\n",
       "      <td>Wicket</td>\n",
       "    </tr>\n",
       "  </tbody>\n",
       "</table>\n",
       "</div>"
      ],
      "text/plain": [
       "   ID      Match_ID  Over                                         Commentary  \\\n",
       "0   0  8.040000e+11  49.6   and india reach 300. there has been a 300 in ...   \n",
       "1   1  8.040000e+11  49.5   slower ball, ashwin bunts this to leg for -99...   \n",
       "2   2  8.040000e+11  49.4   full toss on off, he just slogs, gets a thick...   \n",
       "3   3  8.040000e+11  49.3   that's the closest you'll get to a hat-trick ...   \n",
       "4   4  8.040000e+11  49.2   sohail is doing the sajda after bowling rahan...   \n",
       "\n",
       "   Over_Run_Total          Target  \n",
       "0               4  Run_Bw_Wickets  \n",
       "1               4  Run_Bw_Wickets  \n",
       "2               4  Run_Bw_Wickets  \n",
       "3               4             Dot  \n",
       "4               4          Wicket  "
      ]
     },
     "execution_count": 67,
     "metadata": {},
     "output_type": "execute_result"
    }
   ],
   "source": [
    "data = pd.read_csv('..//0.data//raw/CCC_TrainingData.csv')\n",
    "data.head()"
   ]
  },
  {
   "cell_type": "code",
   "execution_count": 5,
   "metadata": {},
   "outputs": [
    {
     "name": "stdout",
     "output_type": "stream",
     "text": [
      "DATA SIZE = (101634, 6)\n",
      "\n",
      "**DATA TYPES**\n",
      "ID                  int64\n",
      "Match_ID          float64\n",
      "Over              float64\n",
      "Commentary         object\n",
      "Over_Run_Total      int64\n",
      "Target             object\n",
      "dtype: object\n",
      "\n",
      "**COLUMN NAMES**\n",
      "Index(['ID', 'Match_ID', 'Over', 'Commentary', 'Over_Run_Total', 'Target'], dtype='object')\n",
      "\n"
     ]
    }
   ],
   "source": [
    "print(\"DATA SIZE = \" + str(data.shape) + \"\\n\")\n",
    "print(\"**DATA TYPES**\\n\" + str(data.dtypes) + \"\\n\")\n",
    "print(\"**COLUMN NAMES**\\n\" + str(data.columns) + \"\\n\")"
   ]
  },
  {
   "cell_type": "code",
   "execution_count": 6,
   "metadata": {},
   "outputs": [
    {
     "data": {
      "text/html": [
       "<div>\n",
       "<style scoped>\n",
       "    .dataframe tbody tr th:only-of-type {\n",
       "        vertical-align: middle;\n",
       "    }\n",
       "\n",
       "    .dataframe tbody tr th {\n",
       "        vertical-align: top;\n",
       "    }\n",
       "\n",
       "    .dataframe thead th {\n",
       "        text-align: right;\n",
       "    }\n",
       "</style>\n",
       "<table border=\"1\" class=\"dataframe\">\n",
       "  <thead>\n",
       "    <tr style=\"text-align: right;\">\n",
       "      <th></th>\n",
       "      <th>ID</th>\n",
       "      <th>Match_ID</th>\n",
       "      <th>Over</th>\n",
       "      <th>Commentary</th>\n",
       "      <th>Over_Run_Total</th>\n",
       "      <th>Target</th>\n",
       "    </tr>\n",
       "  </thead>\n",
       "  <tbody>\n",
       "    <tr>\n",
       "      <th>count</th>\n",
       "      <td>101634.000000</td>\n",
       "      <td>1.016340e+05</td>\n",
       "      <td>101634.000000</td>\n",
       "      <td>101634</td>\n",
       "      <td>101634.000000</td>\n",
       "      <td>101634</td>\n",
       "    </tr>\n",
       "    <tr>\n",
       "      <th>unique</th>\n",
       "      <td>NaN</td>\n",
       "      <td>NaN</td>\n",
       "      <td>NaN</td>\n",
       "      <td>99159</td>\n",
       "      <td>NaN</td>\n",
       "      <td>4</td>\n",
       "    </tr>\n",
       "    <tr>\n",
       "      <th>top</th>\n",
       "      <td>NaN</td>\n",
       "      <td>NaN</td>\n",
       "      <td>NaN</td>\n",
       "      <td>defended this time</td>\n",
       "      <td>NaN</td>\n",
       "      <td>Run_Bw_Wickets</td>\n",
       "    </tr>\n",
       "    <tr>\n",
       "      <th>freq</th>\n",
       "      <td>NaN</td>\n",
       "      <td>NaN</td>\n",
       "      <td>NaN</td>\n",
       "      <td>61</td>\n",
       "      <td>NaN</td>\n",
       "      <td>43085</td>\n",
       "    </tr>\n",
       "    <tr>\n",
       "      <th>mean</th>\n",
       "      <td>50816.500000</td>\n",
       "      <td>1.632728e+12</td>\n",
       "      <td>16.897594</td>\n",
       "      <td>NaN</td>\n",
       "      <td>6.357154</td>\n",
       "      <td>NaN</td>\n",
       "    </tr>\n",
       "    <tr>\n",
       "      <th>std</th>\n",
       "      <td>29339.352967</td>\n",
       "      <td>2.306025e+12</td>\n",
       "      <td>12.779404</td>\n",
       "      <td>NaN</td>\n",
       "      <td>4.377778</td>\n",
       "      <td>NaN</td>\n",
       "    </tr>\n",
       "    <tr>\n",
       "      <th>min</th>\n",
       "      <td>0.000000</td>\n",
       "      <td>8.040000e+11</td>\n",
       "      <td>0.100000</td>\n",
       "      <td>NaN</td>\n",
       "      <td>0.000000</td>\n",
       "      <td>NaN</td>\n",
       "    </tr>\n",
       "    <tr>\n",
       "      <th>25%</th>\n",
       "      <td>25408.250000</td>\n",
       "      <td>8.040000e+11</td>\n",
       "      <td>6.600000</td>\n",
       "      <td>NaN</td>\n",
       "      <td>3.000000</td>\n",
       "      <td>NaN</td>\n",
       "    </tr>\n",
       "    <tr>\n",
       "      <th>50%</th>\n",
       "      <td>50816.500000</td>\n",
       "      <td>8.040000e+11</td>\n",
       "      <td>14.100000</td>\n",
       "      <td>NaN</td>\n",
       "      <td>6.000000</td>\n",
       "      <td>NaN</td>\n",
       "    </tr>\n",
       "    <tr>\n",
       "      <th>75%</th>\n",
       "      <td>76224.750000</td>\n",
       "      <td>8.040000e+11</td>\n",
       "      <td>24.500000</td>\n",
       "      <td>NaN</td>\n",
       "      <td>9.000000</td>\n",
       "      <td>NaN</td>\n",
       "    </tr>\n",
       "    <tr>\n",
       "      <th>max</th>\n",
       "      <td>101633.000000</td>\n",
       "      <td>8.050000e+12</td>\n",
       "      <td>49.600000</td>\n",
       "      <td>NaN</td>\n",
       "      <td>36.000000</td>\n",
       "      <td>NaN</td>\n",
       "    </tr>\n",
       "  </tbody>\n",
       "</table>\n",
       "</div>"
      ],
      "text/plain": [
       "                   ID      Match_ID           Over           Commentary  \\\n",
       "count   101634.000000  1.016340e+05  101634.000000               101634   \n",
       "unique            NaN           NaN            NaN                99159   \n",
       "top               NaN           NaN            NaN   defended this time   \n",
       "freq              NaN           NaN            NaN                   61   \n",
       "mean     50816.500000  1.632728e+12      16.897594                  NaN   \n",
       "std      29339.352967  2.306025e+12      12.779404                  NaN   \n",
       "min          0.000000  8.040000e+11       0.100000                  NaN   \n",
       "25%      25408.250000  8.040000e+11       6.600000                  NaN   \n",
       "50%      50816.500000  8.040000e+11      14.100000                  NaN   \n",
       "75%      76224.750000  8.040000e+11      24.500000                  NaN   \n",
       "max     101633.000000  8.050000e+12      49.600000                  NaN   \n",
       "\n",
       "        Over_Run_Total          Target  \n",
       "count    101634.000000          101634  \n",
       "unique             NaN               4  \n",
       "top                NaN  Run_Bw_Wickets  \n",
       "freq               NaN           43085  \n",
       "mean          6.357154             NaN  \n",
       "std           4.377778             NaN  \n",
       "min           0.000000             NaN  \n",
       "25%           3.000000             NaN  \n",
       "50%           6.000000             NaN  \n",
       "75%           9.000000             NaN  \n",
       "max          36.000000             NaN  "
      ]
     },
     "execution_count": 6,
     "metadata": {},
     "output_type": "execute_result"
    }
   ],
   "source": [
    "data.describe(include='all')"
   ]
  },
  {
   "cell_type": "code",
   "execution_count": 65,
   "metadata": {},
   "outputs": [
    {
     "name": "stdout",
     "output_type": "stream",
     "text": [
      "Target Distribution\n",
      "Run_Bw_Wickets    43085\n",
      "Dot               42522\n",
      "Boundary          12134\n",
      "Wicket             3893\n",
      "Name: Target, dtype: int64\n"
     ]
    },
    {
     "data": {
      "text/plain": [
       "Text(0,0.5,'Number of Records')"
      ]
     },
     "execution_count": 65,
     "metadata": {},
     "output_type": "execute_result"
    },
    {
     "data": {
      "image/png": "[encoded data removed]",
      "text/plain": [
       "<Figure size 432x288 with 1 Axes>"
      ]
     },
     "metadata": {
      "needs_background": "light"
     },
     "output_type": "display_data"
    }
   ],
   "source": [
    "print(\"Target Distribution\")\n",
    "\n",
    "targetCount = data.Target.value_counts()\n",
    "print(targetCount)\n",
    "\n",
    "graph = sns.barplot(x=targetCount.index, y=targetCount)\n",
    "plt.xlabel('Target')\n",
    "plt.ylabel('Number of Records')"
   ]
  },
  {
   "cell_type": "code",
   "execution_count": 73,
   "metadata": {},
   "outputs": [
    {
     "data": {
      "text/plain": [
       "Over_Run_Total  Target        \n",
       "0               Dot               2845\n",
       "                Wicket             218\n",
       "1               Dot               5775\n",
       "                Run_Bw_Wickets    1252\n",
       "                Wicket             465\n",
       "Name: Target, dtype: int64"
      ]
     },
     "execution_count": 73,
     "metadata": {},
     "output_type": "execute_result"
    }
   ],
   "source": [
    "data.groupby(['Over_Run_Total'])['Target'].value_counts().head()"
   ]
  },
  {
   "cell_type": "markdown",
   "metadata": {},
   "source": [
    "## NULL COUNT"
   ]
  },
  {
   "cell_type": "code",
   "execution_count": 66,
   "metadata": {},
   "outputs": [
    {
     "data": {
      "text/plain": [
       "ID                0\n",
       "Match_ID          0\n",
       "Over              0\n",
       "Commentary        0\n",
       "Over_Run_Total    0\n",
       "Target            0\n",
       "dtype: int64"
      ]
     },
     "execution_count": 66,
     "metadata": {},
     "output_type": "execute_result"
    }
   ],
   "source": [
    "data.isnull().sum()"
   ]
  }
 ],
 "metadata": {
  "kernelspec": {
   "display_name": "Python 3",
   "language": "python",
   "name": "python3"
  },
  "language_info": {
   "codemirror_mode": {
    "name": "ipython",
    "version": 3
   },
   "file_extension": ".py",
   "mimetype": "text/x-python",
   "name": "python",
   "nbconvert_exporter": "python",
   "pygments_lexer": "ipython3",
   "version": "3.7.0"
  }
 },
 "nbformat": 4,
 "nbformat_minor": 2
}
