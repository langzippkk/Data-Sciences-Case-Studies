{
 "cells": [
  {
   "cell_type": "code",
   "execution_count": 0,
   "metadata": {
    "colab": {},
    "colab_type": "code",
    "id": "vPzQoh0Bajl8"
   },
   "outputs": [],
   "source": [
    "import pandas as pd\n",
    "import numpy as np"
   ]
  },
  {
   "cell_type": "code",
   "execution_count": 4,
   "metadata": {
    "colab": {
     "base_uri": "https://localhost:8080/",
     "height": 202
    },
    "colab_type": "code",
    "id": "fb3Ayytuajl_",
    "outputId": "03e42a7c-e39a-4b43-fd34-6597ded14c62"
   },
   "outputs": [
    {
     "data": {
      "text/html": [
       "<div>\n",
       "<style scoped>\n",
       "    .dataframe tbody tr th:only-of-type {\n",
       "        vertical-align: middle;\n",
       "    }\n",
       "\n",
       "    .dataframe tbody tr th {\n",
       "        vertical-align: top;\n",
       "    }\n",
       "\n",
       "    .dataframe thead th {\n",
       "        text-align: right;\n",
       "    }\n",
       "</style>\n",
       "<table border=\"1\" class=\"dataframe\">\n",
       "  <thead>\n",
       "    <tr style=\"text-align: right;\">\n",
       "      <th></th>\n",
       "      <th>ID</th>\n",
       "      <th>Match_ID</th>\n",
       "      <th>Over</th>\n",
       "      <th>Commentary</th>\n",
       "      <th>Over_Run_Total</th>\n",
       "      <th>Target</th>\n",
       "    </tr>\n",
       "  </thead>\n",
       "  <tbody>\n",
       "    <tr>\n",
       "      <th>0</th>\n",
       "      <td>0</td>\n",
       "      <td>803965640511</td>\n",
       "      <td>49.6</td>\n",
       "      <td>and india reach 300. there has been a 300 in ...</td>\n",
       "      <td>4</td>\n",
       "      <td>Run_Bw_Wickets</td>\n",
       "    </tr>\n",
       "    <tr>\n",
       "      <th>1</th>\n",
       "      <td>1</td>\n",
       "      <td>803965640511</td>\n",
       "      <td>49.5</td>\n",
       "      <td>slower ball, ashwin bunts this to leg for -99...</td>\n",
       "      <td>4</td>\n",
       "      <td>Run_Bw_Wickets</td>\n",
       "    </tr>\n",
       "    <tr>\n",
       "      <th>2</th>\n",
       "      <td>2</td>\n",
       "      <td>803965640511</td>\n",
       "      <td>49.4</td>\n",
       "      <td>full toss on off, he just slogs, gets a thick...</td>\n",
       "      <td>4</td>\n",
       "      <td>Run_Bw_Wickets</td>\n",
       "    </tr>\n",
       "    <tr>\n",
       "      <th>3</th>\n",
       "      <td>3</td>\n",
       "      <td>803965640511</td>\n",
       "      <td>49.3</td>\n",
       "      <td>that's the closest you'll get to a hat-trick ...</td>\n",
       "      <td>4</td>\n",
       "      <td>Dot</td>\n",
       "    </tr>\n",
       "    <tr>\n",
       "      <th>4</th>\n",
       "      <td>4</td>\n",
       "      <td>803965640511</td>\n",
       "      <td>49.2</td>\n",
       "      <td>sohail is doing the sajda after bowling rahan...</td>\n",
       "      <td>4</td>\n",
       "      <td>Wicket</td>\n",
       "    </tr>\n",
       "  </tbody>\n",
       "</table>\n",
       "</div>"
      ],
      "text/plain": [
       "   ID      Match_ID  ...  Over_Run_Total          Target\n",
       "0   0  803965640511  ...               4  Run_Bw_Wickets\n",
       "1   1  803965640511  ...               4  Run_Bw_Wickets\n",
       "2   2  803965640511  ...               4  Run_Bw_Wickets\n",
       "3   3  803965640511  ...               4             Dot\n",
       "4   4  803965640511  ...               4          Wicket\n",
       "\n",
       "[5 rows x 6 columns]"
      ]
     },
     "execution_count": 4,
     "metadata": {
      "tags": []
     },
     "output_type": "execute_result"
    }
   ],
   "source": [
    "train = pd.read_excel('CCC_Train.xlsx')\n",
    "train.head()"
   ]
  },
  {
   "cell_type": "code",
   "execution_count": 5,
   "metadata": {
    "colab": {
     "base_uri": "https://localhost:8080/",
     "height": 35
    },
    "colab_type": "code",
    "id": "246RTKcCajmD",
    "outputId": "9080cae9-cb79-4ec7-cc18-567c572fb04c"
   },
   "outputs": [
    {
     "data": {
      "text/plain": [
       "Index(['ID', 'Match_ID', 'Over', 'Commentary', 'Over_Run_Total', 'Target'], dtype='object')"
      ]
     },
     "execution_count": 5,
     "metadata": {
      "tags": []
     },
     "output_type": "execute_result"
    }
   ],
   "source": [
    "train.columns"
   ]
  },
  {
   "cell_type": "markdown",
   "metadata": {
    "colab_type": "text",
    "id": "UaIp3vBPajmH"
   },
   "source": [
    "## Clean Commentary Text"
   ]
  },
  {
   "cell_type": "code",
   "execution_count": 15,
   "metadata": {
    "colab": {
     "base_uri": "https://localhost:8080/",
     "height": 104
    },
    "colab_type": "code",
    "id": "t8ism6owcXOj",
    "outputId": "efb1eb96-ceca-4180-b3ad-3b787cab79bc"
   },
   "outputs": [
    {
     "name": "stdout",
     "output_type": "stream",
     "text": [
      "[nltk_data] Downloading package wordnet to /root/nltk_data...\n",
      "[nltk_data]   Package wordnet is already up-to-date!\n",
      "[nltk_data] Downloading package punkt to /root/nltk_data...\n",
      "[nltk_data]   Unzipping tokenizers/punkt.zip.\n"
     ]
    },
    {
     "data": {
      "text/plain": [
       "True"
      ]
     },
     "execution_count": 15,
     "metadata": {
      "tags": []
     },
     "output_type": "execute_result"
    }
   ],
   "source": [
    "import nltk\n",
    "nltk.download('wordnet')\n",
    "nltk.download('punkt')"
   ]
  },
  {
   "cell_type": "code",
   "execution_count": 0,
   "metadata": {
    "colab": {},
    "colab_type": "code",
    "id": "SW9LyW14ajmI"
   },
   "outputs": [],
   "source": [
    "from nltk.tokenize import RegexpTokenizer\n",
    "from nltk import stem\n",
    "\n",
    "def clean_paragraph(para):\n",
    "    lmtzr = stem.WordNetLemmatizer()\n",
    "    tokenizer = RegexpTokenizer(r'\\w+')\n",
    "    \n",
    "    p = ' '.join([lmtzr.lemmatize(token.lower()) for token in tokenizer.tokenize(para)])\n",
    "    \n",
    "    return p"
   ]
  },
  {
   "cell_type": "code",
   "execution_count": 11,
   "metadata": {
    "colab": {
     "base_uri": "https://localhost:8080/",
     "height": 35
    },
    "colab_type": "code",
    "id": "iSBh9QtBajmL",
    "outputId": "5744b5ad-aadb-4d03-b1bf-fa07544ea4bf"
   },
   "outputs": [
    {
     "name": "stdout",
     "output_type": "stream",
     "text": [
      "10.088396549224854\n"
     ]
    }
   ],
   "source": [
    "import time; t0 = time.time()\n",
    "\n",
    "train.Commentary = [clean_paragraph(para) for para in train.Commentary]\n",
    "\n",
    "print(time.time() - t0)"
   ]
  },
  {
   "cell_type": "code",
   "execution_count": 12,
   "metadata": {
    "colab": {
     "base_uri": "https://localhost:8080/",
     "height": 35
    },
    "colab_type": "code",
    "id": "q3z3zFmLajmO",
    "outputId": "2c4d0169-9893-4fe8-f66b-c4facaab194e"
   },
   "outputs": [
    {
     "data": {
      "text/plain": [
       "'and india reach 300 there ha been a 300 in every first inning of this cup so far shami drive this full ball over point and come back a second'"
      ]
     },
     "execution_count": 12,
     "metadata": {
      "tags": []
     },
     "output_type": "execute_result"
    }
   ],
   "source": [
    "train.Commentary[0]"
   ]
  },
  {
   "cell_type": "markdown",
   "metadata": {
    "colab_type": "text",
    "id": "fnWWauMnajmR"
   },
   "source": [
    "## Build Count Vector on Training Data"
   ]
  },
  {
   "cell_type": "code",
   "execution_count": 0,
   "metadata": {
    "colab": {},
    "colab_type": "code",
    "id": "edpIWztfajmS"
   },
   "outputs": [],
   "source": [
    "import sklearn, nltk\n",
    "from sklearn.feature_extraction.text import CountVectorizer"
   ]
  },
  {
   "cell_type": "code",
   "execution_count": 0,
   "metadata": {
    "colab": {},
    "colab_type": "code",
    "id": "GdzvEyEjajmV"
   },
   "outputs": [],
   "source": [
    "vectorizer = CountVectorizer(min_df=2, tokenizer=nltk.word_tokenize)\n",
    "train_vectorized_data = vectorizer.fit_transform(train.Commentary).toarray()"
   ]
  },
  {
   "cell_type": "code",
   "execution_count": 0,
   "metadata": {
    "colab": {},
    "colab_type": "code",
    "id": "kimjEaCHajmY",
    "outputId": "e9dd6107-27f8-4b5f-fbe3-415efb732ccb"
   },
   "outputs": [
    {
     "name": "stdout",
     "output_type": "stream",
     "text": [
      "(101634, 8828)\n",
      "<class 'numpy.ndarray'>\n"
     ]
    },
    {
     "data": {
      "text/plain": [
       "8828"
      ]
     },
     "execution_count": 9,
     "metadata": {
      "tags": []
     },
     "output_type": "execute_result"
    }
   ],
   "source": [
    "'''\n",
    "101634 docs, 8828 unique tokens\n",
    "'''\n",
    "print(train_vectorized_data.shape)\n",
    "print(type(train_vectorized_data[0]))\n",
    "len(train_vectorized_data[534])"
   ]
  },
  {
   "cell_type": "code",
   "execution_count": 17,
   "metadata": {
    "colab": {
     "base_uri": "https://localhost:8080/",
     "height": 104
    },
    "colab_type": "code",
    "id": "q2RPlNBsajmd",
    "outputId": "f77d95ee-f248-49fc-a29c-57be45c2a8c5"
   },
   "outputs": [
    {
     "data": {
      "text/plain": [
       "Run_Bw_Wickets    43085\n",
       "Dot               42522\n",
       "Boundary          12134\n",
       "Wicket             3893\n",
       "Name: Target, dtype: int64"
      ]
     },
     "execution_count": 17,
     "metadata": {
      "tags": []
     },
     "output_type": "execute_result"
    }
   ],
   "source": [
    "train.Target.value_counts()"
   ]
  },
  {
   "cell_type": "code",
   "execution_count": 18,
   "metadata": {
    "colab": {
     "base_uri": "https://localhost:8080/",
     "height": 104
    },
    "colab_type": "code",
    "id": "y8PA7D4Cajmh",
    "outputId": "4493d704-4cc2-47d0-80bf-5788f9a3e006"
   },
   "outputs": [
    {
     "data": {
      "text/plain": [
       "0    43085\n",
       "1    42522\n",
       "2    12134\n",
       "3     3893\n",
       "Name: Target, dtype: int64"
      ]
     },
     "execution_count": 18,
     "metadata": {
      "tags": []
     },
     "output_type": "execute_result"
    }
   ],
   "source": [
    "'''Convert Class names to numbers for easy row indexing'''\n",
    "\n",
    "for index, row in train.iterrows():\n",
    "    if row.Target == \"Run_Bw_Wickets\":\n",
    "        train.at[index, 'Target'] = 0\n",
    "    if row.Target == \"Dot\":\n",
    "        train.at[index, 'Target'] = 1\n",
    "    if row.Target == \"Boundary\":\n",
    "        train.at[index, 'Target'] = 2\n",
    "    if row.Target == \"Wicket\":\n",
    "        train.at[index, 'Target'] = 3\n",
    "\n",
    "train.Target.value_counts()"
   ]
  },
  {
   "cell_type": "code",
   "execution_count": 19,
   "metadata": {
    "colab": {
     "base_uri": "https://localhost:8080/",
     "height": 208
    },
    "colab_type": "code",
    "id": "I-nTdwBbajmk",
    "outputId": "dff783c9-30dd-4815-a18d-d2edaf2bdeab"
   },
   "outputs": [
    {
     "data": {
      "text/plain": [
       "0    0\n",
       "1    0\n",
       "2    0\n",
       "3    1\n",
       "4    3\n",
       "5    3\n",
       "6    3\n",
       "7    1\n",
       "8    0\n",
       "9    0\n",
       "Name: Target, dtype: object"
      ]
     },
     "execution_count": 19,
     "metadata": {
      "tags": []
     },
     "output_type": "execute_result"
    }
   ],
   "source": [
    "train.Target[:10]"
   ]
  },
  {
   "cell_type": "code",
   "execution_count": 0,
   "metadata": {
    "colab": {},
    "colab_type": "code",
    "id": "4aif4f7qajmn"
   },
   "outputs": [],
   "source": [
    "# from keras.utils import to_categorical\n",
    "# train.Target = to_categorical(train.Target)"
   ]
  },
  {
   "cell_type": "code",
   "execution_count": 0,
   "metadata": {
    "colab": {},
    "colab_type": "code",
    "id": "sXPjFYJyajmr"
   },
   "outputs": [],
   "source": [
    "# train.Target.value_counts()"
   ]
  },
  {
   "cell_type": "markdown",
   "metadata": {
    "colab_type": "text",
    "id": "tOkk2eq1ajmu"
   },
   "source": [
    "## Clean and Vectorize Test Data"
   ]
  },
  {
   "cell_type": "code",
   "execution_count": 21,
   "metadata": {
    "colab": {
     "base_uri": "https://localhost:8080/",
     "height": 173
    },
    "colab_type": "code",
    "id": "6XyG-uIsajmv",
    "outputId": "3bcde670-0a9a-4e7f-a3df-cba79250d86f"
   },
   "outputs": [
    {
     "name": "stdout",
     "output_type": "stream",
     "text": [
      "   ID  ...  Over_Run_Total\n",
      "0   0  ...               9\n",
      "1   1  ...               9\n",
      "2   2  ...               9\n",
      "3   3  ...               9\n",
      "4   4  ...               9\n",
      "\n",
      "[5 rows x 5 columns]\n",
      "(26143, 5)\n"
     ]
    }
   ],
   "source": [
    "test = pd.read_excel('CCC_Test.xlsx')\n",
    "print(test.head())\n",
    "print(test.shape)\n",
    "\n",
    "'''Clean test Data'''\n",
    "test.Commentary = [clean_paragraph(para) for para in test.Commentary]\n",
    "\n",
    "# Run vectorizer on it.\n",
    "test_vectorized_data = vectorizer.transform(test.Commentary).toarray()"
   ]
  },
  {
   "cell_type": "code",
   "execution_count": 22,
   "metadata": {
    "colab": {
     "base_uri": "https://localhost:8080/",
     "height": 69
    },
    "colab_type": "code",
    "id": "ZEziZ0b5ajmx",
    "outputId": "6c9d745b-af49-44ca-fa7a-ffdad0d03889"
   },
   "outputs": [
    {
     "name": "stdout",
     "output_type": "stream",
     "text": [
      "(26143, 8828)\n",
      "(101634, 8828)\n"
     ]
    },
    {
     "data": {
      "text/plain": [
       "'the yorker gone wrong low full toss and dhoni ha been waiting he sends it sailing over midwicket for 999'"
      ]
     },
     "execution_count": 22,
     "metadata": {
      "tags": []
     },
     "output_type": "execute_result"
    }
   ],
   "source": [
    "'''Verify Shapes of input variables'''\n",
    "\n",
    "print(test_vectorized_data.shape)\n",
    "print(train_vectorized_data.shape)\n",
    "test.Commentary[0]"
   ]
  },
  {
   "cell_type": "markdown",
   "metadata": {
    "colab_type": "text",
    "id": "idjIb8T1ajm0"
   },
   "source": [
    "## Run Network on Train Data"
   ]
  },
  {
   "cell_type": "code",
   "execution_count": 23,
   "metadata": {
    "colab": {
     "base_uri": "https://localhost:8080/",
     "height": 35
    },
    "colab_type": "code",
    "id": "s1WubS49ajm0",
    "outputId": "33dfec2c-f746-4831-e267-3322fb06fd61"
   },
   "outputs": [
    {
     "name": "stderr",
     "output_type": "stream",
     "text": [
      "Using TensorFlow backend.\n"
     ]
    }
   ],
   "source": [
    "from keras import models, layers"
   ]
  },
  {
   "cell_type": "code",
   "execution_count": 24,
   "metadata": {
    "colab": {
     "base_uri": "https://localhost:8080/",
     "height": 141
    },
    "colab_type": "code",
    "id": "JmrfHWmqajm3",
    "outputId": "1f937e75-ce60-4c80-a446-50a39172f60a"
   },
   "outputs": [
    {
     "name": "stdout",
     "output_type": "stream",
     "text": [
      "WARNING:tensorflow:From /usr/local/lib/python3.6/dist-packages/keras/backend/tensorflow_backend.py:66: The name tf.get_default_graph is deprecated. Please use tf.compat.v1.get_default_graph instead.\n",
      "\n",
      "WARNING:tensorflow:From /usr/local/lib/python3.6/dist-packages/keras/backend/tensorflow_backend.py:541: The name tf.placeholder is deprecated. Please use tf.compat.v1.placeholder instead.\n",
      "\n",
      "WARNING:tensorflow:From /usr/local/lib/python3.6/dist-packages/keras/backend/tensorflow_backend.py:4432: The name tf.random_uniform is deprecated. Please use tf.random.uniform instead.\n",
      "\n"
     ]
    }
   ],
   "source": [
    "network = models.Sequential()\n",
    "network.add(layers.Dense(64, activation='relu', input_shape=(8828,)))\n",
    "network.add(layers.Dense(32, activation='relu', input_shape=(8828,)))\n",
    "network.add(layers.Dense(16, activation='relu', input_shape=(8828,)))\n",
    "network.add(layers.Dense(8, activation='relu', input_shape=(8828,)))\n",
    "network.add(layers.Dense(4, activation='softmax'))"
   ]
  },
  {
   "cell_type": "code",
   "execution_count": 25,
   "metadata": {
    "colab": {
     "base_uri": "https://localhost:8080/",
     "height": 107
    },
    "colab_type": "code",
    "id": "GTqlBxBJajm5",
    "outputId": "6506ca31-94f0-49b9-dae0-fc78dd34f793"
   },
   "outputs": [
    {
     "name": "stdout",
     "output_type": "stream",
     "text": [
      "WARNING:tensorflow:From /usr/local/lib/python3.6/dist-packages/keras/optimizers.py:793: The name tf.train.Optimizer is deprecated. Please use tf.compat.v1.train.Optimizer instead.\n",
      "\n",
      "WARNING:tensorflow:From /usr/local/lib/python3.6/dist-packages/keras/backend/tensorflow_backend.py:3622: The name tf.log is deprecated. Please use tf.math.log instead.\n",
      "\n"
     ]
    }
   ],
   "source": [
    "network.compile(optimizer = 'rmsprop',\n",
    "             loss = 'sparse_categorical_crossentropy',\n",
    "             metrics = ['accuracy'])"
   ]
  },
  {
   "cell_type": "code",
   "execution_count": 26,
   "metadata": {
    "colab": {
     "base_uri": "https://localhost:8080/",
     "height": 488
    },
    "colab_type": "code",
    "id": "dTP8OzPeajm-",
    "outputId": "8f3c5d0f-b4e7-4676-ec17-64767b72f915"
   },
   "outputs": [
    {
     "name": "stdout",
     "output_type": "stream",
     "text": [
      "WARNING:tensorflow:From /usr/local/lib/python3.6/dist-packages/tensorflow/python/ops/math_grad.py:1250: add_dispatch_support.<locals>.wrapper (from tensorflow.python.ops.array_ops) is deprecated and will be removed in a future version.\n",
      "Instructions for updating:\n",
      "Use tf.where in 2.0, which has the same broadcast rule as np.where\n",
      "WARNING:tensorflow:From /usr/local/lib/python3.6/dist-packages/keras/backend/tensorflow_backend.py:1033: The name tf.assign_add is deprecated. Please use tf.compat.v1.assign_add instead.\n",
      "\n",
      "Epoch 1/10\n",
      "101634/101634 [==============================] - 10s 100us/step - loss: 0.7984 - acc: 0.6686\n",
      "Epoch 2/10\n",
      "101634/101634 [==============================] - 6s 59us/step - loss: 0.4806 - acc: 0.8140\n",
      "Epoch 3/10\n",
      "101634/101634 [==============================] - 6s 59us/step - loss: 0.4167 - acc: 0.8366\n",
      "Epoch 4/10\n",
      "101634/101634 [==============================] - 6s 59us/step - loss: 0.3830 - acc: 0.8494\n",
      "Epoch 5/10\n",
      "101634/101634 [==============================] - 6s 59us/step - loss: 0.3573 - acc: 0.8610\n",
      "Epoch 6/10\n",
      "101634/101634 [==============================] - 6s 59us/step - loss: 0.3335 - acc: 0.8703\n",
      "Epoch 7/10\n",
      "101634/101634 [==============================] - 6s 57us/step - loss: 0.3129 - acc: 0.8798\n",
      "Epoch 8/10\n",
      "101634/101634 [==============================] - 6s 56us/step - loss: 0.2936 - acc: 0.8874\n",
      "Epoch 9/10\n",
      "101634/101634 [==============================] - 6s 56us/step - loss: 0.2751 - acc: 0.8950\n",
      "Epoch 10/10\n",
      "101634/101634 [==============================] - 6s 55us/step - loss: 0.2587 - acc: 0.9019\n"
     ]
    },
    {
     "data": {
      "text/plain": [
       "<keras.callbacks.History at 0x7fbbe18dbc18>"
      ]
     },
     "execution_count": 26,
     "metadata": {
      "tags": []
     },
     "output_type": "execute_result"
    }
   ],
   "source": [
    "network.fit(train_vectorized_data, train.Target, epochs=10, batch_size=512)"
   ]
  },
  {
   "cell_type": "code",
   "execution_count": 0,
   "metadata": {
    "colab": {},
    "colab_type": "code",
    "id": "zLrdh_0AajnE"
   },
   "outputs": [],
   "source": [
    "predicted_test_labels = network.predict(test_vectorized_data)"
   ]
  },
  {
   "cell_type": "code",
   "execution_count": 28,
   "metadata": {
    "colab": {
     "base_uri": "https://localhost:8080/",
     "height": 35
    },
    "colab_type": "code",
    "id": "Unrc2G_7ajnH",
    "outputId": "39aefa29-81a6-4b7f-93f5-a20f6f487d51"
   },
   "outputs": [
    {
     "data": {
      "text/plain": [
       "(26143, 4)"
      ]
     },
     "execution_count": 28,
     "metadata": {
      "tags": []
     },
     "output_type": "execute_result"
    }
   ],
   "source": [
    "predicted_test_labels.shape"
   ]
  },
  {
   "cell_type": "code",
   "execution_count": 34,
   "metadata": {
    "colab": {
     "base_uri": "https://localhost:8080/",
     "height": 35
    },
    "colab_type": "code",
    "id": "a2kFUpnXajnK",
    "outputId": "d68f7cac-6a9a-476b-c4d7-1c07086f7a9b"
   },
   "outputs": [
    {
     "data": {
      "text/plain": [
       "1.0"
      ]
     },
     "execution_count": 34,
     "metadata": {
      "tags": []
     },
     "output_type": "execute_result"
    }
   ],
   "source": [
    "np.sum(predicted_test_labels[12])"
   ]
  },
  {
   "cell_type": "code",
   "execution_count": 38,
   "metadata": {
    "colab": {
     "base_uri": "https://localhost:8080/",
     "height": 35
    },
    "colab_type": "code",
    "id": "ITj0nNWTajnO",
    "outputId": "e53d626e-e794-45f2-bbb5-4c01994507d3"
   },
   "outputs": [
    {
     "data": {
      "text/plain": [
       "1"
      ]
     },
     "execution_count": 38,
     "metadata": {
      "tags": []
     },
     "output_type": "execute_result"
    }
   ],
   "source": [
    "np.argmax(predicted_test_labels[1])"
   ]
  },
  {
   "cell_type": "code",
   "execution_count": 43,
   "metadata": {
    "colab": {
     "base_uri": "https://localhost:8080/",
     "height": 35
    },
    "colab_type": "code",
    "id": "82VSnSRRajnQ",
    "outputId": "e1685ac5-a158-4463-92c4-7eb01b2a4e84"
   },
   "outputs": [
    {
     "data": {
      "text/plain": [
       "[2, 1, 1, 3, 1, 0, 0, 1, 1, 1]"
      ]
     },
     "execution_count": 43,
     "metadata": {
      "tags": []
     },
     "output_type": "execute_result"
    }
   ],
   "source": [
    "pred_labels = []\n",
    "for row in predicted_test_labels:\n",
    "    pred_labels.append(np.argmax(row))\n",
    "\n",
    "pred_labels[:10]"
   ]
  },
  {
   "cell_type": "code",
   "execution_count": 0,
   "metadata": {
    "colab": {},
    "colab_type": "code",
    "id": "LV3cbuF5e_CS"
   },
   "outputs": [],
   "source": [
    "test['Target'] = pred_labels"
   ]
  },
  {
   "cell_type": "code",
   "execution_count": 47,
   "metadata": {
    "colab": {
     "base_uri": "https://localhost:8080/",
     "height": 202
    },
    "colab_type": "code",
    "id": "skYaF36zfCu5",
    "outputId": "7eb0eac8-dd9a-4f62-aa8f-4ab719948841"
   },
   "outputs": [
    {
     "data": {
      "text/html": [
       "<div>\n",
       "<style scoped>\n",
       "    .dataframe tbody tr th:only-of-type {\n",
       "        vertical-align: middle;\n",
       "    }\n",
       "\n",
       "    .dataframe tbody tr th {\n",
       "        vertical-align: top;\n",
       "    }\n",
       "\n",
       "    .dataframe thead th {\n",
       "        text-align: right;\n",
       "    }\n",
       "</style>\n",
       "<table border=\"1\" class=\"dataframe\">\n",
       "  <thead>\n",
       "    <tr style=\"text-align: right;\">\n",
       "      <th></th>\n",
       "      <th>ID</th>\n",
       "      <th>Match_ID</th>\n",
       "      <th>Over</th>\n",
       "      <th>Commentary</th>\n",
       "      <th>Over_Run_Total</th>\n",
       "      <th>Target</th>\n",
       "    </tr>\n",
       "  </thead>\n",
       "  <tbody>\n",
       "    <tr>\n",
       "      <th>0</th>\n",
       "      <td>0</td>\n",
       "      <td>803965640511</td>\n",
       "      <td>47.6</td>\n",
       "      <td>the yorker gone wrong low full toss and dhoni ...</td>\n",
       "      <td>9</td>\n",
       "      <td>2</td>\n",
       "    </tr>\n",
       "    <tr>\n",
       "      <th>1</th>\n",
       "      <td>1</td>\n",
       "      <td>803965640511</td>\n",
       "      <td>47.5</td>\n",
       "      <td>short of a length no room worked to leg for 999</td>\n",
       "      <td>9</td>\n",
       "      <td>1</td>\n",
       "    </tr>\n",
       "    <tr>\n",
       "      <th>2</th>\n",
       "      <td>2</td>\n",
       "      <td>803965640511</td>\n",
       "      <td>47.4</td>\n",
       "      <td>good yorker dhoni is making room but can t get...</td>\n",
       "      <td>9</td>\n",
       "      <td>1</td>\n",
       "    </tr>\n",
       "    <tr>\n",
       "      <th>3</th>\n",
       "      <td>3</td>\n",
       "      <td>803965640511</td>\n",
       "      <td>47.3</td>\n",
       "      <td>raina is gone finally to the short ball but af...</td>\n",
       "      <td>9</td>\n",
       "      <td>3</td>\n",
       "    </tr>\n",
       "    <tr>\n",
       "      <th>4</th>\n",
       "      <td>4</td>\n",
       "      <td>803965640511</td>\n",
       "      <td>47.2</td>\n",
       "      <td>not called a wide great call 999 say he ha mov...</td>\n",
       "      <td>9</td>\n",
       "      <td>1</td>\n",
       "    </tr>\n",
       "  </tbody>\n",
       "</table>\n",
       "</div>"
      ],
      "text/plain": [
       "   ID      Match_ID  ...  Over_Run_Total Target\n",
       "0   0  803965640511  ...               9      2\n",
       "1   1  803965640511  ...               9      1\n",
       "2   2  803965640511  ...               9      1\n",
       "3   3  803965640511  ...               9      3\n",
       "4   4  803965640511  ...               9      1\n",
       "\n",
       "[5 rows x 6 columns]"
      ]
     },
     "execution_count": 47,
     "metadata": {
      "tags": []
     },
     "output_type": "execute_result"
    }
   ],
   "source": [
    "test.head()"
   ]
  },
  {
   "cell_type": "code",
   "execution_count": 57,
   "metadata": {
    "colab": {
     "base_uri": "https://localhost:8080/",
     "height": 277
    },
    "colab_type": "code",
    "id": "Rq_NHxzcfWJc",
    "outputId": "f30ad200-ce58-44e8-ad06-df096a85fce1"
   },
   "outputs": [
    {
     "name": "stdout",
     "output_type": "stream",
     "text": [
      "ID                  int64\n",
      "Match_ID            int64\n",
      "Over              float64\n",
      "Commentary         object\n",
      "Over_Run_Total      int64\n",
      "Target              int64\n",
      "dtype: object\n",
      "<class 'numpy.int64'>\n",
      "ID                  int64\n",
      "Match_ID            int64\n",
      "Over              float64\n",
      "Commentary         object\n",
      "Over_Run_Total      int64\n",
      "Target             object\n",
      "dtype: object\n"
     ]
    }
   ],
   "source": [
    "print(test.dtypes)\n",
    "print(type(test.Target[0]))\n",
    "\n",
    "test.Target = test.Target.astype('str')\n",
    "\n",
    "print(test.dtypes)"
   ]
  },
  {
   "cell_type": "code",
   "execution_count": 59,
   "metadata": {
    "colab": {
     "base_uri": "https://localhost:8080/",
     "height": 202
    },
    "colab_type": "code",
    "id": "SGkycxPAajnS",
    "outputId": "ec23fe24-9afe-4343-e355-4fa1074a4366"
   },
   "outputs": [
    {
     "data": {
      "text/html": [
       "<div>\n",
       "<style scoped>\n",
       "    .dataframe tbody tr th:only-of-type {\n",
       "        vertical-align: middle;\n",
       "    }\n",
       "\n",
       "    .dataframe tbody tr th {\n",
       "        vertical-align: top;\n",
       "    }\n",
       "\n",
       "    .dataframe thead th {\n",
       "        text-align: right;\n",
       "    }\n",
       "</style>\n",
       "<table border=\"1\" class=\"dataframe\">\n",
       "  <thead>\n",
       "    <tr style=\"text-align: right;\">\n",
       "      <th></th>\n",
       "      <th>ID</th>\n",
       "      <th>Match_ID</th>\n",
       "      <th>Over</th>\n",
       "      <th>Commentary</th>\n",
       "      <th>Over_Run_Total</th>\n",
       "      <th>Target</th>\n",
       "    </tr>\n",
       "  </thead>\n",
       "  <tbody>\n",
       "    <tr>\n",
       "      <th>0</th>\n",
       "      <td>0</td>\n",
       "      <td>803965640511</td>\n",
       "      <td>47.6</td>\n",
       "      <td>the yorker gone wrong low full toss and dhoni ...</td>\n",
       "      <td>9</td>\n",
       "      <td>Boundary</td>\n",
       "    </tr>\n",
       "    <tr>\n",
       "      <th>1</th>\n",
       "      <td>1</td>\n",
       "      <td>803965640511</td>\n",
       "      <td>47.5</td>\n",
       "      <td>short of a length no room worked to leg for 999</td>\n",
       "      <td>9</td>\n",
       "      <td>Dot</td>\n",
       "    </tr>\n",
       "    <tr>\n",
       "      <th>2</th>\n",
       "      <td>2</td>\n",
       "      <td>803965640511</td>\n",
       "      <td>47.4</td>\n",
       "      <td>good yorker dhoni is making room but can t get...</td>\n",
       "      <td>9</td>\n",
       "      <td>Dot</td>\n",
       "    </tr>\n",
       "    <tr>\n",
       "      <th>3</th>\n",
       "      <td>3</td>\n",
       "      <td>803965640511</td>\n",
       "      <td>47.3</td>\n",
       "      <td>raina is gone finally to the short ball but af...</td>\n",
       "      <td>9</td>\n",
       "      <td>Wicket</td>\n",
       "    </tr>\n",
       "    <tr>\n",
       "      <th>4</th>\n",
       "      <td>4</td>\n",
       "      <td>803965640511</td>\n",
       "      <td>47.2</td>\n",
       "      <td>not called a wide great call 999 say he ha mov...</td>\n",
       "      <td>9</td>\n",
       "      <td>Dot</td>\n",
       "    </tr>\n",
       "  </tbody>\n",
       "</table>\n",
       "</div>"
      ],
      "text/plain": [
       "   ID      Match_ID  ...  Over_Run_Total    Target\n",
       "0   0  803965640511  ...               9  Boundary\n",
       "1   1  803965640511  ...               9       Dot\n",
       "2   2  803965640511  ...               9       Dot\n",
       "3   3  803965640511  ...               9    Wicket\n",
       "4   4  803965640511  ...               9       Dot\n",
       "\n",
       "[5 rows x 6 columns]"
      ]
     },
     "execution_count": 59,
     "metadata": {
      "tags": []
     },
     "output_type": "execute_result"
    }
   ],
   "source": [
    "'''Convert Labels back to Names'''\n",
    "\n",
    "for index, row in test.iterrows():\n",
    "    if row.Target == \"0\":\n",
    "        test.at[index, 'Target'] = \"Run_Bw_Wickets\"\n",
    "    if row.Target == \"1\":\n",
    "        test.at[index, 'Target'] = \"Dot\"\n",
    "    if row.Target == \"2\":\n",
    "        test.at[index, 'Target'] = \"Boundary\"\n",
    "    if row.Target == \"3\":\n",
    "        test.at[index, 'Target'] = \"Wicket\"\n",
    "        \n",
    "test.head()"
   ]
  },
  {
   "cell_type": "code",
   "execution_count": 0,
   "metadata": {
    "colab": {},
    "colab_type": "code",
    "id": "qXg698_KajnV"
   },
   "outputs": [],
   "source": [
    "test.to_csv('output_DeepLearning_v1.csv')"
   ]
  },
  {
   "cell_type": "markdown",
   "metadata": {
    "colab_type": "text",
    "id": "_luuuZM4ajnX"
   },
   "source": [
    "# Accuracy so far - 83.041 %"
   ]
  }
 ],
 "metadata": {
  "accelerator": "GPU",
  "colab": {
   "collapsed_sections": [],
   "name": "CCC_models_DeepLearning_v1.ipynb",
   "provenance": [],
   "version": "0.3.2"
  },
  "kernelspec": {
   "display_name": "Python 3",
   "language": "python",
   "name": "python3"
  },
  "language_info": {
   "codemirror_mode": {
    "name": "ipython",
    "version": 3
   },
   "file_extension": ".py",
   "mimetype": "text/x-python",
   "name": "python",
   "nbconvert_exporter": "python",
   "pygments_lexer": "ipython3",
   "version": "3.6.0"
  }
 },
 "nbformat": 4,
 "nbformat_minor": 1
}
