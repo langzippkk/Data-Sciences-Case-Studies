{
 "cells": [
  {
   "cell_type": "code",
   "execution_count": 46,
   "metadata": {},
   "outputs": [],
   "source": [
    "import pandas as pd"
   ]
  },
  {
   "cell_type": "code",
   "execution_count": 47,
   "metadata": {},
   "outputs": [
    {
     "data": {
      "text/plain": [
       "(74111, 29)"
      ]
     },
     "execution_count": 47,
     "metadata": {},
     "output_type": "execute_result"
    }
   ],
   "source": [
    "data = pd.read_csv('..\\\\0.data\\\\raw\\\\train.csv')\n",
    "data.shape"
   ]
  },
  {
   "cell_type": "markdown",
   "metadata": {},
   "source": [
    "1. Drop Columns\n",
    "2. Type Conversion\n",
    "3. Imputation\n",
    "4. Standardization\n",
    "5. Binning\n",
    "6. Dummy Creation"
   ]
  },
  {
   "cell_type": "markdown",
   "metadata": {},
   "source": [
    "### 1. Drop Columns"
   ]
  },
  {
   "cell_type": "code",
   "execution_count": 48,
   "metadata": {
    "scrolled": true
   },
   "outputs": [
    {
     "data": {
      "text/plain": [
       "(74111, 17)"
      ]
     },
     "execution_count": 48,
     "metadata": {},
     "output_type": "execute_result"
    }
   ],
   "source": [
    "columnsToBeDropped = ['id', 'description', 'first_review', 'host_response_rate', \\\n",
    "                      'host_since', 'last_review', 'latitude', 'longitude',\\\n",
    "                      'name', 'neighbourhood', 'thumbnail_url', 'zipcode']\n",
    "data.drop(columnsToBeDropped, axis=1, inplace=True)\n",
    "data.shape"
   ]
  },
  {
   "cell_type": "markdown",
   "metadata": {},
   "source": [
    "### 2. Type Conversion"
   ]
  },
  {
   "cell_type": "markdown",
   "metadata": {},
   "source": [
    "Before\n"
   ]
  },
  {
   "cell_type": "code",
   "execution_count": 49,
   "metadata": {},
   "outputs": [
    {
     "data": {
      "text/plain": [
       "log_price                 float64\n",
       "property_type              object\n",
       "room_type                  object\n",
       "amenities                  object\n",
       "accommodates                int64\n",
       "bathrooms                 float64\n",
       "bed_type                   object\n",
       "cancellation_policy        object\n",
       "cleaning_fee                 bool\n",
       "city                       object\n",
       "host_has_profile_pic       object\n",
       "host_identity_verified     object\n",
       "instant_bookable           object\n",
       "number_of_reviews           int64\n",
       "review_scores_rating      float64\n",
       "bedrooms                  float64\n",
       "beds                      float64\n",
       "dtype: object"
      ]
     },
     "execution_count": 49,
     "metadata": {},
     "output_type": "execute_result"
    }
   ],
   "source": [
    "data.dtypes"
   ]
  },
  {
   "cell_type": "markdown",
   "metadata": {},
   "source": [
    "### Attributes\n",
    "\n",
    "* Categorical\n",
    "    1. property_type = 35 Types\n",
    "    2. room_type = 3 Types\n",
    "    3. bed_type = 5\n",
    "    4. cancellation_policy = 5\n",
    "    5. cleaning_fee = 2\n",
    "    6. city = 6\n",
    "    ...\n",
    "\n",
    "\n",
    "* Numerical\n",
    "    1. Accomodates\n",
    "    2. Bathroom\n",
    "    ...\n",
    "    \n",
    "    \n",
    "* More Preprocessing Required\n",
    "    1. Amenitites - Textual Data (Needs to be categorised)"
   ]
  },
  {
   "cell_type": "code",
   "execution_count": 50,
   "metadata": {},
   "outputs": [
    {
     "data": {
      "text/plain": [
       "log_price                  float64\n",
       "property_type             category\n",
       "room_type                 category\n",
       "amenities                   object\n",
       "accommodates               float64\n",
       "bathrooms                  float64\n",
       "bed_type                  category\n",
       "cancellation_policy       category\n",
       "cleaning_fee              category\n",
       "city                      category\n",
       "host_has_profile_pic      category\n",
       "host_identity_verified    category\n",
       "instant_bookable          category\n",
       "number_of_reviews          float64\n",
       "review_scores_rating       float64\n",
       "bedrooms                   float64\n",
       "beds                       float64\n",
       "dtype: object"
      ]
     },
     "execution_count": 50,
     "metadata": {},
     "output_type": "execute_result"
    }
   ],
   "source": [
    "categoryColumns = [\"property_type\", \"room_type\", \"bed_type\", \"cancellation_policy\",\\\n",
    "                   \"cleaning_fee\", \"city\", \"host_has_profile_pic\",\\\n",
    "                   \"host_identity_verified\", \"instant_bookable\"]\n",
    "\n",
    "numericalColumns = ['accommodates', 'bathrooms', 'number_of_reviews',\\\n",
    "                    'review_scores_rating', 'bedrooms', 'beds']\n",
    "data[categoryColumns] = data[categoryColumns].apply(lambda x: x.astype('category'))\n",
    "data[numericalColumns] = data[numericalColumns].apply(lambda x: x.astype('float'))\n",
    "data.dtypes"
   ]
  },
  {
   "cell_type": "markdown",
   "metadata": {},
   "source": [
    "Amenities is left as it is"
   ]
  },
  {
   "cell_type": "markdown",
   "metadata": {},
   "source": [
    "### 3. Imputation Data"
   ]
  },
  {
   "cell_type": "code",
   "execution_count": 51,
   "metadata": {},
   "outputs": [
    {
     "data": {
      "text/plain": [
       "log_price                     0\n",
       "property_type                 0\n",
       "room_type                     0\n",
       "amenities                     0\n",
       "accommodates                  0\n",
       "bathrooms                   200\n",
       "bed_type                      0\n",
       "cancellation_policy           0\n",
       "cleaning_fee                  0\n",
       "city                          0\n",
       "host_has_profile_pic        188\n",
       "host_identity_verified      188\n",
       "instant_bookable              0\n",
       "number_of_reviews             0\n",
       "review_scores_rating      16722\n",
       "bedrooms                     91\n",
       "beds                        131\n",
       "dtype: int64"
      ]
     },
     "execution_count": 51,
     "metadata": {},
     "output_type": "execute_result"
    }
   ],
   "source": [
    "data.isnull().sum()"
   ]
  },
  {
   "cell_type": "markdown",
   "metadata": {},
   "source": [
    "#### Imputing Bedrooms, Bathrooms, and Beds"
   ]
  },
  {
   "cell_type": "code",
   "execution_count": 52,
   "metadata": {},
   "outputs": [],
   "source": [
    "'''\n",
    "LOGIC - Number of bedrooms = bathrooms and vice versa.\n",
    "bathrooms                   200\n",
    "bedrooms                     91\n",
    "beds                        131\n",
    "''' \n",
    "def impute_bedrooms_bathrooms_beds(data):\n",
    "    bathroomC = 0\n",
    "    bedroomC = 0\n",
    "    bedsC = 0\n",
    "    for index, row in data.iterrows():\n",
    "        if (pd.isna(row['bathrooms']) == True) and (pd.isna(row['bedrooms']) == False):\n",
    "            data.at[index, 'bathrooms'] = data.at[index, 'bedrooms']\n",
    "            bathroomC = bathroomC + 1\n",
    "        if (pd.isna(row['bedrooms']) == True) and (pd.isna(row['bathrooms']) == False):\n",
    "            data.at[index, 'bedrooms'] = data.at[index, 'bathrooms']\n",
    "            bedroomC = bedroomC + 1\n",
    "    for index, row in data.iterrows():\n",
    "        if (pd.isna(row['beds']) == True) and (pd.isna(row['bedrooms']) == False):\n",
    "            data.at[index, 'beds'] = data.at[index, 'bedrooms'] * 2\n",
    "            bedsC = bedsC + 1\n",
    "\n",
    "    print('{} counts of Bathroom, {} counts of Bedrooms, {} of Beds attr. are imputed' .format(bathroomC, bedroomC, bedsC))\n",
    "    return data"
   ]
  },
  {
   "cell_type": "code",
   "execution_count": 53,
   "metadata": {},
   "outputs": [],
   "source": [
    "'''\n",
    "No profile Pic - Not Verified\n",
    "Profile Pic present - Not Verified\n",
    "\n",
    "Logic\n",
    "1. If verified: Profile pic must be present.\n",
    "2. If not verified: \n",
    "    if profile pic present: put the same in verified col.\n",
    "'''\n",
    "\n",
    "def impute_hostHasPic_identityVerification(data):\n",
    "#     count1 = 0; count2 = 0\n",
    "    for index, row in data.iterrows():\n",
    "        if (pd.isna(row['host_identity_verified']) == False) and (pd.isna(row['host_has_profile_pic']) == True):\n",
    "            data.at[index, 'host_has_profile_pic'] = data.at[index, 'host_identity_verified']\n",
    "#             count1 = count1 + 1\n",
    "        if (pd.isna(row['host_has_profile_pic']) == False) and (pd.isna(row['host_identity_verified']) == True):\n",
    "            data.at[index, 'host_identity_verified'] = data.at[index, 'host_has_profile_pic']\n",
    "#             count2 = count2 + 1\n",
    "    \n",
    "#     print(count1)\n",
    "#     print(count2)\n",
    "    \n",
    "    return data"
   ]
  },
  {
   "cell_type": "code",
   "execution_count": 54,
   "metadata": {},
   "outputs": [],
   "source": [
    "'''\n",
    "Logic - If No. of reviews = 0 then, Review Scores Rating = 0.\n",
    "'''\n",
    "\n",
    "def impute_review_scores_rating(data):\n",
    "    count = 0\n",
    "    for index, row in data.iterrows():\n",
    "        if (row['number_of_reviews'] == 0) and (pd.isna(row['review_scores_rating']) == True):\n",
    "            data.at[index, 'review_scores_rating'] = 0\n",
    "            count = count + 1\n",
    "            \n",
    "    print('{} counts of Review scores rating had 0 number of reviews. Hence, rating for them is also 0.' .format(count))\n",
    "    return data"
   ]
  },
  {
   "cell_type": "markdown",
   "metadata": {},
   "source": [
    "Impute"
   ]
  },
  {
   "cell_type": "code",
   "execution_count": 55,
   "metadata": {},
   "outputs": [
    {
     "name": "stdout",
     "output_type": "stream",
     "text": [
      "195 counts of Bathroom, 86 counts of Bedrooms, 128 of Beds attr. are imputed\n",
      "15819 counts of Review scores rating had 0 number of reviews. Hence, rating for them is also 0.\n",
      "log_price                   0\n",
      "property_type               0\n",
      "room_type                   0\n",
      "amenities                   0\n",
      "accommodates                0\n",
      "bathrooms                   5\n",
      "bed_type                    0\n",
      "cancellation_policy         0\n",
      "cleaning_fee                0\n",
      "city                        0\n",
      "host_has_profile_pic      188\n",
      "host_identity_verified    188\n",
      "instant_bookable            0\n",
      "number_of_reviews           0\n",
      "review_scores_rating      903\n",
      "bedrooms                    5\n",
      "beds                        3\n",
      "dtype: int64\n"
     ]
    }
   ],
   "source": [
    "data = impute_bedrooms_bathrooms_beds(data)\n",
    "data = impute_hostHasPic_identityVerification(data)\n",
    "data = impute_review_scores_rating(data)\n",
    "\n",
    "print(data.isnull().sum())"
   ]
  },
  {
   "cell_type": "code",
   "execution_count": 63,
   "metadata": {},
   "outputs": [
    {
     "name": "stdout",
     "output_type": "stream",
     "text": [
      "log_price                 0\n",
      "property_type             0\n",
      "room_type                 0\n",
      "amenities                 0\n",
      "accommodates              0\n",
      "bathrooms                 0\n",
      "bed_type                  0\n",
      "cancellation_policy       0\n",
      "cleaning_fee              0\n",
      "city                      0\n",
      "host_has_profile_pic      0\n",
      "host_identity_verified    0\n",
      "instant_bookable          0\n",
      "number_of_reviews         0\n",
      "review_scores_rating      0\n",
      "bedrooms                  0\n",
      "beds                      0\n",
      "dtype: int64\n",
      "(73026, 17)\n"
     ]
    }
   ],
   "source": [
    "'''\n",
    "For the remaining Nan's, the rows are simple dropped.\n",
    "'''\n",
    "data = data.dropna(axis=0)\n",
    "print(data.isnull().sum())\n",
    "print(data.shape)"
   ]
  },
  {
   "cell_type": "markdown",
   "metadata": {},
   "source": [
    "Save this processed data"
   ]
  },
  {
   "cell_type": "code",
   "execution_count": 66,
   "metadata": {},
   "outputs": [],
   "source": [
    "data.to_csv('..\\\\0.data\\\\processed\\\\train_EDA_simple.csv', index=False, header=True)"
   ]
  },
  {
   "cell_type": "code",
   "execution_count": null,
   "metadata": {},
   "outputs": [],
   "source": []
  }
 ],
 "metadata": {
  "kernelspec": {
   "display_name": "Python 3",
   "language": "python",
   "name": "python3"
  },
  "language_info": {
   "codemirror_mode": {
    "name": "ipython",
    "version": 3
   },
   "file_extension": ".py",
   "mimetype": "text/x-python",
   "name": "python",
   "nbconvert_exporter": "python",
   "pygments_lexer": "ipython3",
   "version": "3.7.0"
  }
 },
 "nbformat": 4,
 "nbformat_minor": 2
}
