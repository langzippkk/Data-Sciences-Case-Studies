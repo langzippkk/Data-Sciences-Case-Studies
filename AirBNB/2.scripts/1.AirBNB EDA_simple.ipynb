{
 "cells": [
  {
   "cell_type": "code",
   "execution_count": 4,
   "metadata": {},
   "outputs": [],
   "source": [
    "import pandas as pd"
   ]
  },
  {
   "cell_type": "code",
   "execution_count": 8,
   "metadata": {},
   "outputs": [
    {
     "data": {
      "text/plain": [
       "(74111, 29)"
      ]
     },
     "execution_count": 8,
     "metadata": {},
     "output_type": "execute_result"
    }
   ],
   "source": [
    "data = pd.read_csv('..\\\\0.data\\\\raw\\\\train.csv')\n",
    "data.shape"
   ]
  },
  {
   "cell_type": "markdown",
   "metadata": {},
   "source": [
    "1. Drop Columns\n",
    "2. Type Conversion\n",
    "3. Imputation\n",
    "4. Standardization\n",
    "5. Binning\n",
    "6. Dummy Creation"
   ]
  },
  {
   "cell_type": "markdown",
   "metadata": {},
   "source": [
    "### 1. Drop Columns"
   ]
  },
  {
   "cell_type": "code",
   "execution_count": 9,
   "metadata": {
    "scrolled": true
   },
   "outputs": [
    {
     "data": {
      "text/plain": [
       "(74111, 17)"
      ]
     },
     "execution_count": 9,
     "metadata": {},
     "output_type": "execute_result"
    }
   ],
   "source": [
    "columnsToBeDropped = ['id', 'description', 'first_review', 'host_response_rate', \\\n",
    "                      'host_since', 'last_review', 'latitude', 'longitude',\\\n",
    "                      'name', 'neighbourhood', 'thumbnail_url', 'zipcode']\n",
    "data.drop(columnsToBeDropped, axis=1, inplace=True)\n",
    "data.shape"
   ]
  },
  {
   "cell_type": "markdown",
   "metadata": {},
   "source": [
    "### 2. Type Conversion"
   ]
  },
  {
   "cell_type": "markdown",
   "metadata": {},
   "source": [
    "Before\n"
   ]
  },
  {
   "cell_type": "code",
   "execution_count": 10,
   "metadata": {},
   "outputs": [
    {
     "data": {
      "text/plain": [
       "log_price                 float64\n",
       "property_type              object\n",
       "room_type                  object\n",
       "amenities                  object\n",
       "accommodates                int64\n",
       "bathrooms                 float64\n",
       "bed_type                   object\n",
       "cancellation_policy        object\n",
       "cleaning_fee                 bool\n",
       "city                       object\n",
       "host_has_profile_pic       object\n",
       "host_identity_verified     object\n",
       "instant_bookable           object\n",
       "number_of_reviews           int64\n",
       "review_scores_rating      float64\n",
       "bedrooms                  float64\n",
       "beds                      float64\n",
       "dtype: object"
      ]
     },
     "execution_count": 10,
     "metadata": {},
     "output_type": "execute_result"
    }
   ],
   "source": [
    "data.dtypes"
   ]
  },
  {
   "cell_type": "markdown",
   "metadata": {},
   "source": [
    "### Attributes\n",
    "\n",
    "* Categorical\n",
    "    1. property_type = 35 Types\n",
    "    2. room_type = 3 Types\n",
    "    3. bed_type = 5\n",
    "    4. cancellation_policy = 5\n",
    "    5. cleaning_fee = 2\n",
    "    6. city = 6\n",
    "    ...\n",
    "\n",
    "\n",
    "* Numerical\n",
    "    1. Accomodates\n",
    "    2. Bathroom\n",
    "    ...\n",
    "    \n",
    "    \n",
    "* More Preprocessing Required\n",
    "    1. Amenitites - Textual Data (Needs to be categorised)"
   ]
  },
  {
   "cell_type": "code",
   "execution_count": 14,
   "metadata": {},
   "outputs": [
    {
     "data": {
      "text/plain": [
       "log_price                  float64\n",
       "property_type             category\n",
       "room_type                 category\n",
       "amenities                   object\n",
       "accommodates               float64\n",
       "bathrooms                  float64\n",
       "bed_type                  category\n",
       "cancellation_policy       category\n",
       "cleaning_fee              category\n",
       "city                      category\n",
       "host_has_profile_pic      category\n",
       "host_identity_verified    category\n",
       "instant_bookable          category\n",
       "number_of_reviews          float64\n",
       "review_scores_rating       float64\n",
       "bedrooms                   float64\n",
       "beds                       float64\n",
       "dtype: object"
      ]
     },
     "execution_count": 14,
     "metadata": {},
     "output_type": "execute_result"
    }
   ],
   "source": [
    "categoryColumns = [\"property_type\", \"room_type\", \"bed_type\", \"cancellation_policy\",\\\n",
    "                   \"cleaning_fee\", \"city\", \"host_has_profile_pic\",\\\n",
    "                   \"host_identity_verified\", \"instant_bookable\"]\n",
    "\n",
    "numericalColumns = ['accommodates', 'bathrooms', 'number_of_reviews',\\\n",
    "                    'review_scores_rating', 'bedrooms', 'beds']\n",
    "data[categoryColumns] = data[categoryColumns].apply(lambda x: x.astype('category'))\n",
    "data[numericalColumns] = data[numericalColumns].apply(lambda x: x.astype('float'))\n",
    "data.dtypes"
   ]
  },
  {
   "cell_type": "markdown",
   "metadata": {},
   "source": [
    "Amenities is left as it is"
   ]
  },
  {
   "cell_type": "markdown",
   "metadata": {},
   "source": [
    "### 3. Imputation Data"
   ]
  },
  {
   "cell_type": "code",
   "execution_count": 17,
   "metadata": {},
   "outputs": [
    {
     "data": {
      "text/plain": [
       "log_price                     0\n",
       "property_type                 0\n",
       "room_type                     0\n",
       "amenities                     0\n",
       "accommodates                  0\n",
       "bathrooms                   200\n",
       "bed_type                      0\n",
       "cancellation_policy           0\n",
       "cleaning_fee                  0\n",
       "city                          0\n",
       "host_has_profile_pic        188\n",
       "host_identity_verified      188\n",
       "instant_bookable              0\n",
       "number_of_reviews             0\n",
       "review_scores_rating      16722\n",
       "bedrooms                     91\n",
       "beds                        131\n",
       "dtype: int64"
      ]
     },
     "execution_count": 17,
     "metadata": {},
     "output_type": "execute_result"
    }
   ],
   "source": [
    "data.isnull().sum()"
   ]
  },
  {
   "cell_type": "markdown",
   "metadata": {},
   "source": [
    "#### Imputing Bedrooms, Bathrooms, and Beds"
   ]
  },
  {
   "cell_type": "code",
   "execution_count": 18,
   "metadata": {},
   "outputs": [],
   "source": [
    "'''\n",
    "LOGIC - Number of bedrooms = bathrooms and vice versa.\n",
    "bathrooms                   200\n",
    "bedrooms                     91\n",
    "beds                        131\n",
    "''' \n",
    "def impute_bedrooms_bathrooms_beds(data):\n",
    "    bathroomC = 0\n",
    "    bedroomC = 0\n",
    "    bedsC = 0\n",
    "    for index, row in data.iterrows():\n",
    "        if (pd.isna(row['bathrooms']) == True) and (pd.isna(row['bedrooms']) == False):\n",
    "            data.at[index, 'bathrooms'] = data.at[index, 'bedrooms']\n",
    "            bathroomC = bathroomC + 1\n",
    "        if (pd.isna(row['bedrooms']) == True) and (pd.isna(row['bathrooms']) == False):\n",
    "            data.at[index, 'bedrooms'] = data.at[index, 'bathrooms']\n",
    "            bedroomC = bedroomC + 1\n",
    "    for index, row in data.iterrows():\n",
    "        if (pd.isna(row['beds']) == True) and (pd.isna(row['bedrooms']) == False):\n",
    "            data.at[index, 'beds'] = data.at[index, 'bedrooms'] * 2\n",
    "            bedsC = bedsC + 1\n",
    "\n",
    "    print('{} counts of Bathroom, {} counts of Bedrooms, {} of Beds attr. are imputed' .format(bathroomC, bedroomC, bedsC))"
   ]
  },
  {
   "cell_type": "code",
   "execution_count": 25,
   "metadata": {},
   "outputs": [
    {
     "name": "stdout",
     "output_type": "stream",
     "text": [
      "188\n"
     ]
    }
   ],
   "source": [
    "'''\n",
    "No profile Pic - Not Verified\n",
    "Profile Pic present - Not Verified\n",
    "\n",
    "Logic\n",
    "1. If verified: Profile pic must be present.\n",
    "    Count:\n",
    "    \n",
    "'''\n",
    "count = 0\n",
    "for index, row in data.iterrows():\n",
    "    if (pd.isna(row['host_identity_verified']) == True):\n",
    "#         print(data[['host_identity_verified', 'host_has_profile_pic']])\n",
    "        count = count + 1\n",
    "\n",
    "print(count)\n",
    "# def impute_hostHasPic_identityVerification(data):\n",
    "#     for index, row in data.iterrows():\n",
    "#         if \n",
    "    \n",
    "    \n",
    "    \n",
    "    # for index, row in data.iterrows():\n",
    "    #     if row['host_identity_verified'] == 't':\n",
    "    #         data.at[index, 'host_identity_verified'] = 1\n",
    "    #         data.at[index, 'host_has_profile_pic'] = 1\n",
    "    #     elif row['host_identity_verified'] == 'f':\n",
    "    #         data.at[index, 'host_identity_verified'] = 0\n",
    "    #         data.at[index, 'host_has_profile_pic'] = 0"
   ]
  },
  {
   "cell_type": "code",
   "execution_count": null,
   "metadata": {},
   "outputs": [],
   "source": [
    "categoryCols = ['host_has_profile_pic', 'host_identity_verified']\n",
    "\n",
    "# categoryData = data.loc[:,categoryCols]\n",
    "# categoryData.head()\n",
    "imp = Imputer(missing_values=np.NaN, strategy='most_frequent')\n",
    "data = pd.DataFrame(imp.fit_transform(data), columns=categoryCols)\n",
    "\n",
    "# # numericalData = rawData.loc[:,['review_scores_rating']]\n",
    "# # imp = Imputer(missing_values=np.nan, strategy='mean')\n",
    "# # numericalData = pd.DataFrame(imp.fit_transform(numericalData), columns=['review_scores_rating'])\n",
    "# # rawData.isnull().sum()"
   ]
  },
  {
   "cell_type": "code",
   "execution_count": null,
   "metadata": {},
   "outputs": [],
   "source": []
  },
  {
   "cell_type": "code",
   "execution_count": null,
   "metadata": {},
   "outputs": [],
   "source": []
  },
  {
   "cell_type": "code",
   "execution_count": null,
   "metadata": {
    "scrolled": true
   },
   "outputs": [],
   "source": []
  },
  {
   "cell_type": "code",
   "execution_count": null,
   "metadata": {},
   "outputs": [],
   "source": []
  },
  {
   "cell_type": "raw",
   "metadata": {},
   "source": [
    "# Imputing Neighbourhoods\n",
    "\n",
    "# from geopy.geocoders import Nominatim\n",
    "# geolocator = Nominatim(user_agent=\"temp\")\n",
    "\n",
    "# for index, row in rawData.iterrows():\n",
    "# #     if pd.isna(row['neighbourhood']) == True and index <= 100:\n",
    "#     if pd.isna(row['neighbourhood']) == True:\n",
    "#         latlongtext = str(row['latitude']) + ',' + str(row['longitude'])\n",
    "#         location = geolocator.reverse(latlongtext)\n",
    "#         locDict = location.raw['address']\n",
    "        \n",
    "#         if 'neighbourhood' in locDict.keys():\n",
    "#             rawData.at[index, 'neighbourhood'] = locDict['neighbourhood']\n",
    "# #         elif 'suburb' in locDict.keys():\n",
    "# #             rawData.at[index, 'neighbourhood'] = locDict['suburb']\n",
    "# #         elif 'hamlet' in locDict.keys():\n",
    "# #             rawData.at[index, 'neighbourhood'] = locDict['hamlet']\n",
    "#         else:\n",
    "#             continue\n",
    "\n",
    "# #       print('{} = {} ||| {}' .format(index, locDict, row['city']))"
   ]
  }
 ],
 "metadata": {
  "kernelspec": {
   "display_name": "Python 3",
   "language": "python",
   "name": "python3"
  },
  "language_info": {
   "codemirror_mode": {
    "name": "ipython",
    "version": 3
   },
   "file_extension": ".py",
   "mimetype": "text/x-python",
   "name": "python",
   "nbconvert_exporter": "python",
   "pygments_lexer": "ipython3",
   "version": "3.7.0"
  }
 },
 "nbformat": 4,
 "nbformat_minor": 2
}
