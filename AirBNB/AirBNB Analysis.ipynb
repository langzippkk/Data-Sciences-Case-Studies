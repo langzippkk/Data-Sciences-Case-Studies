{
 "cells": [
  {
   "cell_type": "code",
   "execution_count": 1,
   "metadata": {},
   "outputs": [],
   "source": [
    "import pandas as pd"
   ]
  },
  {
   "cell_type": "code",
   "execution_count": 182,
   "metadata": {},
   "outputs": [
    {
     "name": "stdout",
     "output_type": "stream",
     "text": [
      "(74111, 29)\n"
     ]
    },
    {
     "data": {
      "text/html": [
       "<div>\n",
       "<style scoped>\n",
       "    .dataframe tbody tr th:only-of-type {\n",
       "        vertical-align: middle;\n",
       "    }\n",
       "\n",
       "    .dataframe tbody tr th {\n",
       "        vertical-align: top;\n",
       "    }\n",
       "\n",
       "    .dataframe thead th {\n",
       "        text-align: right;\n",
       "    }\n",
       "</style>\n",
       "<table border=\"1\" class=\"dataframe\">\n",
       "  <thead>\n",
       "    <tr style=\"text-align: right;\">\n",
       "      <th></th>\n",
       "      <th>id</th>\n",
       "      <th>log_price</th>\n",
       "      <th>property_type</th>\n",
       "      <th>room_type</th>\n",
       "      <th>amenities</th>\n",
       "      <th>accommodates</th>\n",
       "      <th>bathrooms</th>\n",
       "      <th>bed_type</th>\n",
       "      <th>cancellation_policy</th>\n",
       "      <th>cleaning_fee</th>\n",
       "      <th>...</th>\n",
       "      <th>latitude</th>\n",
       "      <th>longitude</th>\n",
       "      <th>name</th>\n",
       "      <th>neighbourhood</th>\n",
       "      <th>number_of_reviews</th>\n",
       "      <th>review_scores_rating</th>\n",
       "      <th>thumbnail_url</th>\n",
       "      <th>zipcode</th>\n",
       "      <th>bedrooms</th>\n",
       "      <th>beds</th>\n",
       "    </tr>\n",
       "  </thead>\n",
       "  <tbody>\n",
       "    <tr>\n",
       "      <th>0</th>\n",
       "      <td>6901257</td>\n",
       "      <td>5.010635</td>\n",
       "      <td>Apartment</td>\n",
       "      <td>Entire home/apt</td>\n",
       "      <td>{\"Wireless Internet\",\"Air conditioning\",Kitche...</td>\n",
       "      <td>3</td>\n",
       "      <td>1.0</td>\n",
       "      <td>Real Bed</td>\n",
       "      <td>strict</td>\n",
       "      <td>True</td>\n",
       "      <td>...</td>\n",
       "      <td>40.696524</td>\n",
       "      <td>-73.991617</td>\n",
       "      <td>Beautiful brownstone 1-bedroom</td>\n",
       "      <td>Brooklyn Heights</td>\n",
       "      <td>2</td>\n",
       "      <td>100.0</td>\n",
       "      <td>https://a0.muscache.com/im/pictures/6d7cbbf7-c...</td>\n",
       "      <td>11201</td>\n",
       "      <td>1.0</td>\n",
       "      <td>1.0</td>\n",
       "    </tr>\n",
       "  </tbody>\n",
       "</table>\n",
       "<p>1 rows × 29 columns</p>\n",
       "</div>"
      ],
      "text/plain": [
       "        id  log_price property_type        room_type  \\\n",
       "0  6901257   5.010635     Apartment  Entire home/apt   \n",
       "\n",
       "                                           amenities  accommodates  bathrooms  \\\n",
       "0  {\"Wireless Internet\",\"Air conditioning\",Kitche...             3        1.0   \n",
       "\n",
       "   bed_type cancellation_policy  cleaning_fee  ...    latitude  longitude  \\\n",
       "0  Real Bed              strict          True  ...   40.696524 -73.991617   \n",
       "\n",
       "                             name     neighbourhood number_of_reviews  \\\n",
       "0  Beautiful brownstone 1-bedroom  Brooklyn Heights                 2   \n",
       "\n",
       "  review_scores_rating                                      thumbnail_url  \\\n",
       "0                100.0  https://a0.muscache.com/im/pictures/6d7cbbf7-c...   \n",
       "\n",
       "  zipcode bedrooms  beds  \n",
       "0   11201      1.0   1.0  \n",
       "\n",
       "[1 rows x 29 columns]"
      ]
     },
     "execution_count": 182,
     "metadata": {},
     "output_type": "execute_result"
    }
   ],
   "source": [
    "rawData = pd.read_csv('C:\\\\Users\\\\rritesh\\\\Master\\\\Projects\\\\Case Studies\\\\MASTER\\\\AirBNB\\\\train.csv')\n",
    "print(rawData.shape)\n",
    "rawData.head(1)"
   ]
  },
  {
   "cell_type": "code",
   "execution_count": 181,
   "metadata": {
    "scrolled": true
   },
   "outputs": [
    {
     "name": "stdout",
     "output_type": "stream",
     "text": [
      "0\n",
      "0\n",
      "0\n",
      "0\n",
      "0\n",
      "0\n",
      "200\n",
      "0\n",
      "0\n",
      "0\n",
      "0\n",
      "0\n",
      "15864\n",
      "188\n",
      "188\n",
      "18299\n",
      "188\n",
      "0\n",
      "15827\n",
      "0\n",
      "0\n",
      "0\n",
      "6872\n",
      "0\n",
      "16722\n",
      "8216\n",
      "966\n",
      "91\n",
      "131\n"
     ]
    }
   ],
   "source": [
    "# print(rawData.nunique())\n",
    "for c in rawData.columns:\n",
    "#     print(rawData[c].nunique())\n",
    "    print(rawData[c].isnull().sum())\n",
    "\n",
    "# print('\\n\\n')\n",
    "# print(rawData.iloc[0,:])"
   ]
  },
  {
   "cell_type": "markdown",
   "metadata": {},
   "source": [
    "# Drop Columns"
   ]
  },
  {
   "cell_type": "code",
   "execution_count": 152,
   "metadata": {},
   "outputs": [
    {
     "data": {
      "text/plain": [
       "(74111, 20)"
      ]
     },
     "execution_count": 152,
     "metadata": {},
     "output_type": "execute_result"
    }
   ],
   "source": [
    "columnsToBeDropped = ['id', 'description', 'first_review', 'host_has_profile_pic', 'host_response_rate', 'last_review', 'name', 'thumbnail_url', 'zipcode']\n",
    "rawData.drop(columnsToBeDropped, axis=1, inplace=True)\n",
    "rawData.shape"
   ]
  },
  {
   "cell_type": "markdown",
   "metadata": {},
   "source": [
    "# Data Imputation (Missing Values)"
   ]
  },
  {
   "cell_type": "code",
   "execution_count": 154,
   "metadata": {},
   "outputs": [
    {
     "data": {
      "text/plain": [
       "log_price                     0\n",
       "property_type                 0\n",
       "room_type                     0\n",
       "amenities                     0\n",
       "accommodates                  0\n",
       "bathrooms                   200\n",
       "bed_type                      0\n",
       "cancellation_policy           0\n",
       "cleaning_fee                  0\n",
       "city                          0\n",
       "host_identity_verified      188\n",
       "host_since                  188\n",
       "instant_bookable              0\n",
       "latitude                      0\n",
       "longitude                     0\n",
       "neighbourhood              6872\n",
       "number_of_reviews             0\n",
       "review_scores_rating      16722\n",
       "bedrooms                     91\n",
       "beds                        131\n",
       "dtype: int64"
      ]
     },
     "execution_count": 154,
     "metadata": {},
     "output_type": "execute_result"
    }
   ],
   "source": [
    "rawData.isnull().sum()"
   ]
  },
  {
   "cell_type": "markdown",
   "metadata": {},
   "source": [
    "### Imputing Bedrooms, Bathrooms, and Beds"
   ]
  },
  {
   "cell_type": "code",
   "execution_count": 155,
   "metadata": {},
   "outputs": [
    {
     "name": "stdout",
     "output_type": "stream",
     "text": [
      "195 counts of Bathroom, 86 counts of Bedrooms, 128 of Beds attr. are imputed\n"
     ]
    }
   ],
   "source": [
    "# LOGIC - Number of bedrooms = bathrooms and vice versa.\n",
    "bathroomC = 0\n",
    "bedroomC = 0\n",
    "bedsC = 0\n",
    "for index, row in rawData.iterrows():\n",
    "    if (pd.isna(row['bathrooms']) == True) and (pd.isna(row['bedrooms']) == False):\n",
    "        rawData.at[index, 'bathrooms'] = rawData.at[index, 'bedrooms']\n",
    "        bathroomC = bathroomC + 1\n",
    "    if (pd.isna(row['bedrooms']) == True) and (pd.isna(row['bathrooms']) == False):\n",
    "        rawData.at[index, 'bedrooms'] = rawData.at[index, 'bathrooms']\n",
    "        bedroomC = bedroomC + 1\n",
    "for index, row in rawData.iterrows():\n",
    "    if (pd.isna(row['beds']) == True) and (pd.isna(row['bedrooms']) == False):\n",
    "        rawData.at[index, 'beds'] = rawData.at[index, 'bedrooms'] * 2\n",
    "        bedsC = bedsC + 1\n",
    "\n",
    "print('{} counts of Bathroom, {} counts of Bedrooms, {} of Beds attr. are imputed' .format(bathroomC, bedroomC, bedsC))"
   ]
  },
  {
   "cell_type": "markdown",
   "metadata": {},
   "source": [
    "   ### Imputing Neighbourhoods"
   ]
  },
  {
   "cell_type": "code",
   "execution_count": 158,
   "metadata": {},
   "outputs": [],
   "source": [
    "# from geopy.geocoders import Nominatim\n",
    "# geolocator = Nominatim(user_agent=\"temp\")\n",
    "\n",
    "# for index, row in rawData.iterrows():\n",
    "# #     if pd.isna(row['neighbourhood']) == True and index <= 100:\n",
    "#     if pd.isna(row['neighbourhood']) == True:\n",
    "#         latlongtext = str(row['latitude']) + ',' + str(row['longitude'])\n",
    "#         location = geolocator.reverse(latlongtext)\n",
    "#         locDict = location.raw['address']\n",
    "        \n",
    "#         if 'neighbourhood' in locDict.keys():\n",
    "#             rawData.at[index, 'neighbourhood'] = locDict['neighbourhood']\n",
    "# #         elif 'suburb' in locDict.keys():\n",
    "# #             rawData.at[index, 'neighbourhood'] = locDict['suburb']\n",
    "# #         elif 'hamlet' in locDict.keys():\n",
    "# #             rawData.at[index, 'neighbourhood'] = locDict['hamlet']\n",
    "#         else:\n",
    "#             continue\n",
    "\n",
    "# #       print('{} = {} ||| {}' .format(index, locDict, row['city']))"
   ]
  },
  {
   "cell_type": "code",
   "execution_count": 162,
   "metadata": {},
   "outputs": [
    {
     "data": {
      "text/plain": [
       "35"
      ]
     },
     "execution_count": 162,
     "metadata": {},
     "output_type": "execute_result"
    }
   ],
   "source": []
  },
  {
   "cell_type": "markdown",
   "metadata": {},
   "source": [
    "# Data type conversion"
   ]
  },
  {
   "cell_type": "code",
   "execution_count": 153,
   "metadata": {},
   "outputs": [
    {
     "data": {
      "text/plain": [
       "log_price                 float64\n",
       "property_type              object\n",
       "room_type                  object\n",
       "amenities                  object\n",
       "accommodates                int64\n",
       "bathrooms                 float64\n",
       "bed_type                   object\n",
       "cancellation_policy        object\n",
       "cleaning_fee                 bool\n",
       "city                       object\n",
       "host_identity_verified     object\n",
       "host_since                 object\n",
       "instant_bookable           object\n",
       "latitude                  float64\n",
       "longitude                 float64\n",
       "neighbourhood              object\n",
       "number_of_reviews           int64\n",
       "review_scores_rating      float64\n",
       "bedrooms                  float64\n",
       "beds                      float64\n",
       "dtype: object"
      ]
     },
     "execution_count": 153,
     "metadata": {},
     "output_type": "execute_result"
    }
   ],
   "source": [
    "# BEFORE\n",
    "rawData.dtypes"
   ]
  },
  {
   "cell_type": "code",
   "execution_count": 130,
   "metadata": {},
   "outputs": [
    {
     "data": {
      "text/plain": [
       "log_price                  float64\n",
       "property_type             category\n",
       "room_type                 category\n",
       "amenities                 category\n",
       "accommodates                 int64\n",
       "bathrooms                  float64\n",
       "bed_type                  category\n",
       "cancellation_policy       category\n",
       "cleaning_fee              category\n",
       "city                      category\n",
       "host_identity_verified    category\n",
       "host_since                category\n",
       "instant_bookable          category\n",
       "latitude                   float64\n",
       "longitude                  float64\n",
       "neighbourhood             category\n",
       "number_of_reviews            int64\n",
       "review_scores_rating       float64\n",
       "bedrooms                   float64\n",
       "beds                       float64\n",
       "dtype: object"
      ]
     },
     "execution_count": 130,
     "metadata": {},
     "output_type": "execute_result"
    }
   ],
   "source": [
    "categoryColumns = [\"property_type\",\"room_type\",\"amenities\",\"bed_type\",\"cancellation_policy\",\"cleaning_fee\", \"city\", \\\n",
    "                   \"host_identity_verified\", \"host_since\", \"instant_bookable\", \"neighbourhood\"]\n",
    "# [1:3, 6:12, 15]\n",
    "rawData[categoryColumns] = rawData[categoryColumns].apply(lambda x: x.astype('category'))\n",
    "rawData.dtypes"
   ]
  },
  {
   "cell_type": "code",
   "execution_count": 146,
   "metadata": {
    "scrolled": true
   },
   "outputs": [
    {
     "data": {
      "text/plain": [
       "log_price                     0\n",
       "property_type                 0\n",
       "room_type                     0\n",
       "amenities                     0\n",
       "accommodates                  0\n",
       "bathrooms                     5\n",
       "bed_type                      0\n",
       "cancellation_policy           0\n",
       "cleaning_fee                  0\n",
       "city                          0\n",
       "host_identity_verified      188\n",
       "host_since                  188\n",
       "instant_bookable              0\n",
       "latitude                      0\n",
       "longitude                     0\n",
       "neighbourhood              6872\n",
       "number_of_reviews             0\n",
       "review_scores_rating      16722\n",
       "bedrooms                      5\n",
       "beds                          3\n",
       "dtype: int64"
      ]
     },
     "execution_count": 146,
     "metadata": {},
     "output_type": "execute_result"
    }
   ],
   "source": [
    "rawData.isnull().sum()"
   ]
  },
  {
   "cell_type": "code",
   "execution_count": 166,
   "metadata": {},
   "outputs": [
    {
     "data": {
      "text/plain": [
       "log_price                   767\n",
       "property_type                35\n",
       "room_type                     3\n",
       "amenities                 67122\n",
       "accommodates                 16\n",
       "bathrooms                    17\n",
       "bed_type                      5\n",
       "cancellation_policy           5\n",
       "cleaning_fee                  2\n",
       "city                          6\n",
       "host_identity_verified        2\n",
       "host_since                 3087\n",
       "instant_bookable              2\n",
       "latitude                  74111\n",
       "longitude                 74111\n",
       "neighbourhood               651\n",
       "number_of_reviews           371\n",
       "review_scores_rating         54\n",
       "bedrooms                     12\n",
       "beds                         18\n",
       "dtype: int64"
      ]
     },
     "execution_count": 166,
     "metadata": {},
     "output_type": "execute_result"
    }
   ],
   "source": []
  },
  {
   "cell_type": "code",
   "execution_count": null,
   "metadata": {},
   "outputs": [],
   "source": []
  }
 ],
 "metadata": {
  "kernelspec": {
   "display_name": "Python 3",
   "language": "python",
   "name": "python3"
  },
  "language_info": {
   "codemirror_mode": {
    "name": "ipython",
    "version": 3
   },
   "file_extension": ".py",
   "mimetype": "text/x-python",
   "name": "python",
   "nbconvert_exporter": "python",
   "pygments_lexer": "ipython3",
   "version": "3.7.0"
  }
 },
 "nbformat": 4,
 "nbformat_minor": 2
}
